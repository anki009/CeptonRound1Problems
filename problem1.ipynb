{
  "nbformat": 4,
  "nbformat_minor": 0,
  "metadata": {
    "colab": {
      "name": "problem1.ipynb",
      "provenance": [],
      "collapsed_sections": [],
      "authorship_tag": "ABX9TyNhbXe9aShX9dD1+xxjdxWW",
      "include_colab_link": true
    },
    "kernelspec": {
      "name": "python3",
      "display_name": "Python 3"
    },
    "language_info": {
      "name": "python"
    }
  },
  "cells": [
    {
      "cell_type": "markdown",
      "metadata": {
        "id": "view-in-github",
        "colab_type": "text"
      },
      "source": [
        "<a href=\"https://colab.research.google.com/github/anki009/CeptonRound1Problems/blob/main/problem1.ipynb\" target=\"_parent\"><img src=\"https://colab.research.google.com/assets/colab-badge.svg\" alt=\"Open In Colab\"/></a>"
      ]
    },
    {
      "cell_type": "markdown",
      "metadata": {
        "id": "J5Kzsh8Hnawt"
      },
      "source": [
        "**Problem** **1**"
      ]
    },
    {
      "cell_type": "code",
      "metadata": {
        "colab": {
          "base_uri": "https://localhost:8080/"
        },
        "id": "O0IrZ-X3gHU2",
        "outputId": "71195da7-445a-49e1-9bde-37e2f545744d"
      },
      "source": [
        "lt=[]\n",
        "for d in range(1,50):\n",
        "  for c in range(1,50):\n",
        "    for b in range(1,50):\n",
        "      for a in range(1,50):\n",
        "        if(a<=b and b<=c and c<=d):\n",
        "          num1=a*b*c*d\n",
        "          num2=(b*c*d)+(a*c*d)+(a*b*d)+(a*b*c)\n",
        "          if (num1==num2):\n",
        "            lt.append(a)\n",
        "            lt.append(b)\n",
        "            lt.append(c)\n",
        "            lt.append(d)\n",
        "            answer=tuple(lt)\n",
        "            print(answer)\n",
        "            lt=[]\n",
        "            "
      ],
      "execution_count": 2,
      "outputs": [
        {
          "output_type": "stream",
          "text": [
            "(4, 4, 4, 4)\n",
            "(3, 4, 4, 6)\n",
            "(3, 3, 6, 6)\n",
            "(2, 6, 6, 6)\n",
            "(2, 4, 8, 8)\n",
            "(2, 5, 5, 10)\n",
            "(3, 3, 4, 12)\n",
            "(2, 4, 6, 12)\n",
            "(2, 3, 12, 12)\n",
            "(2, 3, 10, 15)\n",
            "(2, 3, 9, 18)\n",
            "(2, 4, 5, 20)\n",
            "(2, 3, 8, 24)\n",
            "(2, 3, 7, 42)\n"
          ],
          "name": "stdout"
        }
      ]
    }
  ]
}